{
 "cells": [
  {
   "cell_type": "markdown",
   "id": "637c0567-bb37-4c2a-9ded-f5665a1134b4",
   "metadata": {},
   "source": [
    "# Pinetree simulation example\n",
    "\n",
    "https://pinetree.readthedocs.io/en/latest/intro.html#construct-a-simulation"
   ]
  },
  {
   "cell_type": "code",
   "execution_count": null,
   "id": "5db4e919-f1b7-4e5e-8ea4-e4b72b7cdcf5",
   "metadata": {},
   "outputs": [],
   "source": [
    "!pip install cmake\n",
    "!pip install pinetree"
   ]
  },
  {
   "cell_type": "code",
   "execution_count": null,
   "id": "ab89be6e-c421-4a34-9405-f3aae4a0236c",
   "metadata": {},
   "outputs": [],
   "source": [
    "import pinetree as pt\n",
    "\n",
    "model = pt.Model(cell_volume=8e-16)"
   ]
  },
  {
   "cell_type": "code",
   "execution_count": null,
   "id": "cd2acc80-3415-4121-8b46-1e2bb41d9a77",
   "metadata": {},
   "outputs": [],
   "source": [
    "# Pinetree supports linear genomes of any size, represented by Genome objects. \n",
    "# A Genome object must be given a name and a length, in base pairs.\n",
    "plasmid = pt.Genome(name=\"myplasmid\", length=300)"
   ]
  },
  {
   "cell_type": "code",
   "execution_count": null,
   "id": "d496bc12-531f-4401-a65a-2f52ae099493",
   "metadata": {},
   "outputs": [],
   "source": [
    "plasmid.add_promoter(name=\"phi1\", start=1, stop=10,\n",
    "                     interactions={\"rnapol\": 2e8})\n",
    "\n",
    "plasmid.add_terminator(name=\"t1\", start=299, stop=300,\n",
    "                       efficiency={\"rnapol\": 1.0})\n",
    "\n",
    "plasmid.add_gene(name=\"rnapol\", start=26, stop=225,\n",
    "                 rbs_start=11, rbs_stop=26, rbs_strength=1e7)\n",
    "\n",
    "plasmid.add_gene(name=\"proteinX\", start=241, stop=280,\n",
    "                 rbs_start=226, rbs_stop=241, rbs_strength=1e7)"
   ]
  },
  {
   "cell_type": "code",
   "execution_count": null,
   "id": "d6b905f3-67db-4733-80ae-3f3805be2d57",
   "metadata": {},
   "outputs": [],
   "source": [
    "# When all genetic elements have been added, register the Genome object with our Model object.\n",
    "model.register_genome(plasmid)"
   ]
  },
  {
   "cell_type": "code",
   "execution_count": null,
   "id": "e6204378-3b24-46ee-a654-a1c95fb53981",
   "metadata": {},
   "outputs": [],
   "source": [
    "# To simulate both transcription and translation, we’ll add polymerases and then add ribosomes. \n",
    "# Since these enzymes may interact with more than one type of genome, we add them to the Model object.\n",
    "\n",
    "model.add_polymerase(name=\"rnapol\", footprint=10, speed=40.0, copy_number=10)\n",
    "model.add_ribosome(speed=30.0, footprint=10, copy_number=100)"
   ]
  },
  {
   "cell_type": "code",
   "execution_count": null,
   "id": "98f5e3fd-7a73-490e-827a-088efde69d84",
   "metadata": {},
   "outputs": [],
   "source": [
    "# Pinetree supports option species reactions between one or two molecular species.\n",
    "# For example, we may define a reaction such that proteinX forms a complex with rnapol called rnapol-X.\n",
    "\n",
    "model.add_reaction(reactants=['proteinX', 'rnapol'],\n",
    "                   products=['rnapol-X'],\n",
    "                   rate_constant=1e-7)"
   ]
  },
  {
   "cell_type": "code",
   "execution_count": null,
   "id": "21d091a1-7cfa-4b57-ad5d-5277e26c8a32",
   "metadata": {},
   "outputs": [],
   "source": [
    "model.simulate(time_limit=60, time_step=1, output=\"my_simulation.tsv\")"
   ]
  },
  {
   "cell_type": "markdown",
   "id": "0c47decc-9876-4f1f-a927-97afc9553b13",
   "metadata": {},
   "source": [
    "A pinetree simulation produces an output file with 5 columns.\n",
    "\n",
    "time\n",
    "    \n",
    "    Current time of simulation in seconds.\n",
    "\n",
    "species\n",
    "    \n",
    "    Name of a molecular species, derived from a polymerase name, a gene name, or an explicitly defined molecular species. Any name with a ‘__’ double underscore prefix is used internally by pinetree.\n",
    "\n",
    "protein\n",
    "    \n",
    "    Quantity of free proteins corresponding to a species name. For example, the number in this column corresponding to ‘rnapol’ would represent free RNA polymerases that are not actively transcribing.\n",
    "\n",
    "transcript\n",
    "    \n",
    "    Quantity of transcripts for corresponding to a species name. If a species only exists as a protein or otherwise has no transcript precursor, this value will be 0.\n",
    "\n",
    "ribo_density (experimental)\n",
    "    \n",
    "    Average quantity of ribosomes actively translating on a transcript. "
   ]
  }
 ],
 "metadata": {
  "kernelspec": {
   "display_name": "Python 3 (ipykernel)",
   "language": "python",
   "name": "python3"
  },
  "language_info": {
   "codemirror_mode": {
    "name": "ipython",
    "version": 3
   },
   "file_extension": ".py",
   "mimetype": "text/x-python",
   "name": "python",
   "nbconvert_exporter": "python",
   "pygments_lexer": "ipython3",
   "version": "3.9.15"
  }
 },
 "nbformat": 4,
 "nbformat_minor": 5
}
