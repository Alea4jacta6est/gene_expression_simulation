{
 "cells": [
  {
   "cell_type": "markdown",
   "metadata": {
    "tags": []
   },
   "source": [
    "# SERGIO\n",
    "\n",
    "We first simulate \"clean\" gene expression data based on the GRN and mathematical models of transcriptional processes, including the stochasticity of suchprocesses (biological noise). We then add \"technical noise\" to the clean data, mimicking the nature of measurement errors attributed to scRNA-seq technology.\n",
    "\n",
    "We generate expression profiles of single cells by sampling themfrom the steady state of a dynamical process that involves genesexpressing at rates influenced by other genes (TFs)\n",
    "\n",
    "You can download datasets from this folder: https://github.com/PayamDiba/SERGIO/tree/master/data_sets"
   ]
  },
  {
   "cell_type": "code",
   "execution_count": null,
   "metadata": {
    "tags": []
   },
   "outputs": [],
   "source": [
    "import numpy as np\n",
    "import pandas as pd\n",
    "from SERGIO.SERGIO.sergio import sergio"
   ]
  },
  {
   "cell_type": "markdown",
   "metadata": {},
   "source": [
    "# Simulate Clean Data _ Steady-State Simulation\n",
    "\n",
    "        # 2- input_file_taregts: a csv file, one row per targets. Columns: Target Idx, #regulators,\n",
    "        # regIdx1,...,regIdx(#regs), K1,...,K(#regs), coop_state1,...,\n",
    "        # coop_state(#regs)\n",
    "        # 3- input_file_regs: a csv file, one row per master regulators. Columns: Master regulator Idx,\n",
    "        # production_rate1,...,productions_rate(#bins)\n",
    "        # 4- input_file_taregts should not contain any line for master regulators"
   ]
  },
  {
   "cell_type": "code",
   "execution_count": null,
   "metadata": {},
   "outputs": [],
   "source": [
    "import pandas as pd\n",
    "import os\n",
    "\n",
    "df = pd.read_table(\"from_dmitry/Yeast-5_knockouts.tsv\", skiprows=1)\n",
    "#with open(\"from_dmitry/knockouts.txt\", \"w\") as ff:\n",
    "df.to_csv(\"from_dmitry/knockouts.txt\", index=False)"
   ]
  },
  {
   "cell_type": "code",
   "execution_count": null,
   "metadata": {
    "tags": []
   },
   "outputs": [],
   "source": [
    "sim = sergio(number_genes=100, number_bins = 9, number_sc = 300, noise_params = 1, decays=0.8, sampling_state=15, noise_type='dpd')\n",
    "#sim.build_graph(input_file_taregts ='data_sets/De-noised_100G_9T_300cPerT_4_DS1/Interaction_cID_4.txt', input_file_regs='data_sets/De-noised_100G_9T_300cPerT_4_DS1/Regs_cID_4.txt', shared_coop_state=2)\n",
    "sim.build_graph(input_file_taregts=\"from_dmitry/knockouts.txt\", input_file_regs=\"from_dmitry/Test_3_37.txt\")\n",
    "sim.simulate()\n",
    "expr = sim.getExpressions()\n",
    "expr_clean = np.concatenate(expr, axis = 1)"
   ]
  },
  {
   "cell_type": "markdown",
   "metadata": {},
   "source": [
    "# Add Technical Noise _ Steady-State Simulations"
   ]
  },
  {
   "cell_type": "code",
   "execution_count": null,
   "metadata": {
    "tags": []
   },
   "outputs": [],
   "source": [
    "\"\"\"\n",
    "Add outlier genes\n",
    "\"\"\"\n",
    "expr_O = sim.outlier_effect(expr, outlier_prob = 0.01, mean = 0.8, scale = 1)\n",
    "\n",
    "\"\"\"\n",
    "Add Library Size Effect\n",
    "\"\"\"\n",
    "libFactor, expr_O_L = sim.lib_size_effect(expr_O, mean = 4.6, scale = 0.4)\n",
    "\n",
    "\"\"\"\n",
    "Add Dropouts\n",
    "\"\"\"\n",
    "binary_ind = sim.dropout_indicator(expr_O_L, shape = 6.5, percentile = 82)\n",
    "expr_O_L_D = np.multiply(binary_ind, expr_O_L)\n",
    "\n",
    "\"\"\"\n",
    "Convert to UMI count\n",
    "\"\"\"\n",
    "count_matrix = sim.convert_to_UMIcounts(expr_O_L_D)\n",
    "\n",
    "\"\"\"\n",
    "Make a 2d gene expression matrix\n",
    "\"\"\"\n",
    "count_matrix = np.concatenate(count_matrix, axis = 1)"
   ]
  },
  {
   "cell_type": "markdown",
   "metadata": {},
   "source": [
    "# Simulate Clean Data _ differentiation Simulation"
   ]
  },
  {
   "cell_type": "code",
   "execution_count": null,
   "metadata": {
    "tags": []
   },
   "outputs": [],
   "source": [
    "#df = pd.read_csv('data_sets/De-noised_100G_6T_300cPerT_dynamics_7_DS6/bMat_cID7.tab', sep='\\t', header=None, index_col=None)\n",
    "df = pd.read_table(\"from_dmitry/Yeast-5_knockouts.tsv\", skiprows=1)\n",
    "bMat = df.values\n",
    "\n",
    "sim = sergio(number_genes=100, number_bins = 6, number_sc = 300, noise_params = 0.2, decays=0.8, sampling_state = 1, noise_params_splice = 0.07, noise_type='dpd', dynamics=True, bifurcation_matrix= bMat)\n",
    "#sim.build_graph(input_file_taregts ='data_sets/De-noised_100G_6T_300cPerT_dynamics_7_DS6/Interaction_cID_7.txt', input_file_regs='data_sets/De-noised_100G_6T_300cPerT_dynamics_7_DS6/Regs_cID_7.txt', shared_coop_state=2)\n",
    "\n",
    "sim.simulate_dynamics()\n",
    "exprU, exprS = sim.getExpressions_dynamics()\n",
    "exprU_clean = np.concatenate(exprU, axis = 1)\n",
    "exprS_clean = np.concatenate(exprS, axis = 1)"
   ]
  },
  {
   "cell_type": "markdown",
   "metadata": {},
   "source": [
    "# Add Technical Noise _ differentiation Simulations"
   ]
  },
  {
   "cell_type": "code",
   "execution_count": null,
   "metadata": {
    "tags": []
   },
   "outputs": [],
   "source": [
    "\"\"\"\n",
    "Add outlier genes\n",
    "\"\"\"\n",
    "exprU_O, exprS_O = sim.outlier_effect_dynamics(exprU, exprS, outlier_prob = 0.01, mean = 0.8, scale = 1)\n",
    "\n",
    "\"\"\"\n",
    "Add Library Size Effect\n",
    "\"\"\"\n",
    "libFactor, exprU_O_L, exprS_O_L = sim.lib_size_effect_dynamics(exprU_O, exprS_O, mean = 4.6, scale = 0.4)\n",
    "\n",
    "\"\"\"\n",
    "Add Dropouts\n",
    "\"\"\"\n",
    "binary_indU, binary_indS = sim.dropout_indicator_dynamics(exprU_O_L, exprS_O_L, shape = 6.5, percentile = 82)\n",
    "exprU_O_L_D = np.multiply(binary_indU, exprU_O_L)\n",
    "exprS_O_L_D = np.multiply(binary_indS, exprS_O_L)\n",
    "\n",
    "\"\"\"\n",
    "Convert to UMI count\n",
    "\"\"\"\n",
    "count_matrix_U, count_matrix_S = sim.convert_to_UMIcounts_dynamics(exprU_O_L_D, exprS_O_L_D)\n",
    "\n",
    "\"\"\"\n",
    "Make 2d spliced and unspliced expression matrices\n",
    "\"\"\"\n",
    "count_matrix_U = np.concatenate(count_matrix_U, axis = 1)\n",
    "count_matrix_S = np.concatenate(count_matrix_S, axis = 1)"
   ]
  },
  {
   "cell_type": "code",
   "execution_count": null,
   "metadata": {},
   "outputs": [],
   "source": [
    "print(count_matrix_S)"
   ]
  },
  {
   "cell_type": "code",
   "execution_count": null,
   "metadata": {},
   "outputs": [],
   "source": [
    "import pandas as pd\n",
    "\n",
    "pd.DataFrame(count_matrix_S)"
   ]
  }
 ],
 "metadata": {
  "kernelspec": {
   "display_name": "Python 3",
   "language": "python",
   "name": "python3"
  },
  "language_info": {
   "codemirror_mode": {
    "name": "ipython",
    "version": 3
   },
   "file_extension": ".py",
   "mimetype": "text/x-python",
   "name": "python",
   "nbconvert_exporter": "python",
   "pygments_lexer": "ipython3",
   "version": "3.10.8 (main, Oct 21 2022, 22:22:30) [Clang 14.0.0 (clang-1400.0.29.202)]"
  },
  "vscode": {
   "interpreter": {
    "hash": "b0fa6594d8f4cbf19f97940f81e996739fb7646882a419484c72d19e05852a7e"
   }
  }
 },
 "nbformat": 4,
 "nbformat_minor": 4
}
